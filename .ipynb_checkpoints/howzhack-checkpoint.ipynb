{
 "cells": [
  {
   "cell_type": "code",
   "execution_count": 1,
   "metadata": {},
   "outputs": [
    {
     "name": "stderr",
     "output_type": "stream",
     "text": [
      "ERROR:fbprophet:Importing plotly failed. Interactive plots will not work.\n"
     ]
    }
   ],
   "source": [
    "import torch\n",
    "import torch.nn as nn\n",
    "from torch.autograd import Variable\n",
    "import torch.optim as optim\n",
    "import torch.nn.functional as F\n",
    "\n",
    "import numpy as np\n",
    "import pandas\n",
    "import seaborn as sns\n",
    "import random\n",
    "from fbprophet import Prophet\n",
    "import matplotlib.pyplot as plt"
   ]
  },
  {
   "cell_type": "code",
   "execution_count": 2,
   "metadata": {},
   "outputs": [],
   "source": [
    "df = pandas.read_csv('processed_sample_data.csv')"
   ]
  },
  {
   "cell_type": "code",
   "execution_count": 3,
   "metadata": {},
   "outputs": [
    {
     "data": {
      "text/plain": [
       "Index(['date', 'users', ' sessionLength', 'event_count'], dtype='object')"
      ]
     },
     "execution_count": 3,
     "metadata": {},
     "output_type": "execute_result"
    }
   ],
   "source": [
    "df.columns"
   ]
  },
  {
   "cell_type": "code",
   "execution_count": 4,
   "metadata": {},
   "outputs": [],
   "source": [
    "test_df = df[4080:]\n",
    "train_df = df[~df.isin(test_df)].dropna()"
   ]
  },
  {
   "cell_type": "code",
   "execution_count": 5,
   "metadata": {},
   "outputs": [
    {
     "data": {
      "text/html": [
       "<div>\n",
       "<style scoped>\n",
       "    .dataframe tbody tr th:only-of-type {\n",
       "        vertical-align: middle;\n",
       "    }\n",
       "\n",
       "    .dataframe tbody tr th {\n",
       "        vertical-align: top;\n",
       "    }\n",
       "\n",
       "    .dataframe thead th {\n",
       "        text-align: right;\n",
       "    }\n",
       "</style>\n",
       "<table border=\"1\" class=\"dataframe\">\n",
       "  <thead>\n",
       "    <tr style=\"text-align: right;\">\n",
       "      <th></th>\n",
       "      <th>date</th>\n",
       "      <th>users</th>\n",
       "      <th>sessionLength</th>\n",
       "      <th>event_count</th>\n",
       "    </tr>\n",
       "  </thead>\n",
       "  <tbody>\n",
       "    <tr>\n",
       "      <th>0</th>\n",
       "      <td>2019-01-02 00:00:00</td>\n",
       "      <td>45</td>\n",
       "      <td>282</td>\n",
       "      <td>52</td>\n",
       "    </tr>\n",
       "    <tr>\n",
       "      <th>1</th>\n",
       "      <td>2019-01-02 01:00:00</td>\n",
       "      <td>62</td>\n",
       "      <td>254</td>\n",
       "      <td>67</td>\n",
       "    </tr>\n",
       "    <tr>\n",
       "      <th>2</th>\n",
       "      <td>2019-01-02 02:00:00</td>\n",
       "      <td>97</td>\n",
       "      <td>213</td>\n",
       "      <td>109</td>\n",
       "    </tr>\n",
       "    <tr>\n",
       "      <th>3</th>\n",
       "      <td>2019-01-02 03:00:00</td>\n",
       "      <td>147</td>\n",
       "      <td>215</td>\n",
       "      <td>152</td>\n",
       "    </tr>\n",
       "    <tr>\n",
       "      <th>4</th>\n",
       "      <td>2019-01-02 04:00:00</td>\n",
       "      <td>172</td>\n",
       "      <td>232</td>\n",
       "      <td>185</td>\n",
       "    </tr>\n",
       "    <tr>\n",
       "      <th>5</th>\n",
       "      <td>2019-01-02 05:00:00</td>\n",
       "      <td>193</td>\n",
       "      <td>236</td>\n",
       "      <td>210</td>\n",
       "    </tr>\n",
       "    <tr>\n",
       "      <th>6</th>\n",
       "      <td>2019-01-02 06:00:00</td>\n",
       "      <td>201</td>\n",
       "      <td>226</td>\n",
       "      <td>221</td>\n",
       "    </tr>\n",
       "    <tr>\n",
       "      <th>7</th>\n",
       "      <td>2019-01-02 07:00:00</td>\n",
       "      <td>237</td>\n",
       "      <td>203</td>\n",
       "      <td>253</td>\n",
       "    </tr>\n",
       "    <tr>\n",
       "      <th>8</th>\n",
       "      <td>2019-01-02 08:00:00</td>\n",
       "      <td>257</td>\n",
       "      <td>216</td>\n",
       "      <td>274</td>\n",
       "    </tr>\n",
       "    <tr>\n",
       "      <th>9</th>\n",
       "      <td>2019-01-02 09:00:00</td>\n",
       "      <td>250</td>\n",
       "      <td>247</td>\n",
       "      <td>279</td>\n",
       "    </tr>\n",
       "    <tr>\n",
       "      <th>10</th>\n",
       "      <td>2019-01-02 10:00:00</td>\n",
       "      <td>270</td>\n",
       "      <td>237</td>\n",
       "      <td>290</td>\n",
       "    </tr>\n",
       "    <tr>\n",
       "      <th>11</th>\n",
       "      <td>2019-01-02 11:00:00</td>\n",
       "      <td>212</td>\n",
       "      <td>225</td>\n",
       "      <td>249</td>\n",
       "    </tr>\n",
       "    <tr>\n",
       "      <th>12</th>\n",
       "      <td>2019-01-02 12:00:00</td>\n",
       "      <td>239</td>\n",
       "      <td>211</td>\n",
       "      <td>260</td>\n",
       "    </tr>\n",
       "    <tr>\n",
       "      <th>13</th>\n",
       "      <td>2019-01-02 13:00:00</td>\n",
       "      <td>212</td>\n",
       "      <td>224</td>\n",
       "      <td>235</td>\n",
       "    </tr>\n",
       "    <tr>\n",
       "      <th>14</th>\n",
       "      <td>2019-01-02 14:00:00</td>\n",
       "      <td>193</td>\n",
       "      <td>251</td>\n",
       "      <td>205</td>\n",
       "    </tr>\n",
       "    <tr>\n",
       "      <th>15</th>\n",
       "      <td>2019-01-02 15:00:00</td>\n",
       "      <td>151</td>\n",
       "      <td>242</td>\n",
       "      <td>165</td>\n",
       "    </tr>\n",
       "    <tr>\n",
       "      <th>16</th>\n",
       "      <td>2019-01-02 16:00:00</td>\n",
       "      <td>132</td>\n",
       "      <td>247</td>\n",
       "      <td>138</td>\n",
       "    </tr>\n",
       "    <tr>\n",
       "      <th>17</th>\n",
       "      <td>2019-01-02 17:00:00</td>\n",
       "      <td>99</td>\n",
       "      <td>269</td>\n",
       "      <td>106</td>\n",
       "    </tr>\n",
       "    <tr>\n",
       "      <th>18</th>\n",
       "      <td>2019-01-02 18:00:00</td>\n",
       "      <td>60</td>\n",
       "      <td>341</td>\n",
       "      <td>64</td>\n",
       "    </tr>\n",
       "    <tr>\n",
       "      <th>19</th>\n",
       "      <td>2019-01-02 19:00:00</td>\n",
       "      <td>37</td>\n",
       "      <td>314</td>\n",
       "      <td>37</td>\n",
       "    </tr>\n",
       "    <tr>\n",
       "      <th>20</th>\n",
       "      <td>2019-01-02 20:00:00</td>\n",
       "      <td>46</td>\n",
       "      <td>250</td>\n",
       "      <td>47</td>\n",
       "    </tr>\n",
       "    <tr>\n",
       "      <th>21</th>\n",
       "      <td>2019-01-02 21:00:00</td>\n",
       "      <td>25</td>\n",
       "      <td>216</td>\n",
       "      <td>25</td>\n",
       "    </tr>\n",
       "    <tr>\n",
       "      <th>22</th>\n",
       "      <td>2019-01-02 22:00:00</td>\n",
       "      <td>21</td>\n",
       "      <td>417</td>\n",
       "      <td>22</td>\n",
       "    </tr>\n",
       "    <tr>\n",
       "      <th>23</th>\n",
       "      <td>2019-01-02 23:00:00</td>\n",
       "      <td>25</td>\n",
       "      <td>132</td>\n",
       "      <td>27</td>\n",
       "    </tr>\n",
       "    <tr>\n",
       "      <th>24</th>\n",
       "      <td>2019-01-03 00:00:00</td>\n",
       "      <td>40</td>\n",
       "      <td>148</td>\n",
       "      <td>43</td>\n",
       "    </tr>\n",
       "    <tr>\n",
       "      <th>25</th>\n",
       "      <td>2019-01-03 01:00:00</td>\n",
       "      <td>86</td>\n",
       "      <td>239</td>\n",
       "      <td>93</td>\n",
       "    </tr>\n",
       "    <tr>\n",
       "      <th>26</th>\n",
       "      <td>2019-01-03 02:00:00</td>\n",
       "      <td>124</td>\n",
       "      <td>195</td>\n",
       "      <td>132</td>\n",
       "    </tr>\n",
       "    <tr>\n",
       "      <th>27</th>\n",
       "      <td>2019-01-03 03:00:00</td>\n",
       "      <td>207</td>\n",
       "      <td>221</td>\n",
       "      <td>226</td>\n",
       "    </tr>\n",
       "    <tr>\n",
       "      <th>28</th>\n",
       "      <td>2019-01-03 04:00:00</td>\n",
       "      <td>197</td>\n",
       "      <td>203</td>\n",
       "      <td>217</td>\n",
       "    </tr>\n",
       "    <tr>\n",
       "      <th>29</th>\n",
       "      <td>2019-01-03 05:00:00</td>\n",
       "      <td>203</td>\n",
       "      <td>220</td>\n",
       "      <td>223</td>\n",
       "    </tr>\n",
       "    <tr>\n",
       "      <th>...</th>\n",
       "      <td>...</td>\n",
       "      <td>...</td>\n",
       "      <td>...</td>\n",
       "      <td>...</td>\n",
       "    </tr>\n",
       "    <tr>\n",
       "      <th>4290</th>\n",
       "      <td>2019-06-29 18:00:00</td>\n",
       "      <td>140</td>\n",
       "      <td>193</td>\n",
       "      <td>153</td>\n",
       "    </tr>\n",
       "    <tr>\n",
       "      <th>4291</th>\n",
       "      <td>2019-06-29 19:00:00</td>\n",
       "      <td>61</td>\n",
       "      <td>261</td>\n",
       "      <td>66</td>\n",
       "    </tr>\n",
       "    <tr>\n",
       "      <th>4292</th>\n",
       "      <td>2019-06-29 20:00:00</td>\n",
       "      <td>47</td>\n",
       "      <td>202</td>\n",
       "      <td>49</td>\n",
       "    </tr>\n",
       "    <tr>\n",
       "      <th>4293</th>\n",
       "      <td>2019-06-29 21:00:00</td>\n",
       "      <td>35</td>\n",
       "      <td>356</td>\n",
       "      <td>35</td>\n",
       "    </tr>\n",
       "    <tr>\n",
       "      <th>4294</th>\n",
       "      <td>2019-06-29 22:00:00</td>\n",
       "      <td>35</td>\n",
       "      <td>235</td>\n",
       "      <td>38</td>\n",
       "    </tr>\n",
       "    <tr>\n",
       "      <th>4295</th>\n",
       "      <td>2019-06-29 23:00:00</td>\n",
       "      <td>58</td>\n",
       "      <td>401</td>\n",
       "      <td>61</td>\n",
       "    </tr>\n",
       "    <tr>\n",
       "      <th>4296</th>\n",
       "      <td>2019-06-30 00:00:00</td>\n",
       "      <td>132</td>\n",
       "      <td>246</td>\n",
       "      <td>138</td>\n",
       "    </tr>\n",
       "    <tr>\n",
       "      <th>4297</th>\n",
       "      <td>2019-06-30 01:00:00</td>\n",
       "      <td>165</td>\n",
       "      <td>303</td>\n",
       "      <td>175</td>\n",
       "    </tr>\n",
       "    <tr>\n",
       "      <th>4298</th>\n",
       "      <td>2019-06-30 02:00:00</td>\n",
       "      <td>258</td>\n",
       "      <td>250</td>\n",
       "      <td>276</td>\n",
       "    </tr>\n",
       "    <tr>\n",
       "      <th>4299</th>\n",
       "      <td>2019-06-30 03:00:00</td>\n",
       "      <td>253</td>\n",
       "      <td>233</td>\n",
       "      <td>280</td>\n",
       "    </tr>\n",
       "    <tr>\n",
       "      <th>4300</th>\n",
       "      <td>2019-06-30 04:00:00</td>\n",
       "      <td>281</td>\n",
       "      <td>235</td>\n",
       "      <td>306</td>\n",
       "    </tr>\n",
       "    <tr>\n",
       "      <th>4301</th>\n",
       "      <td>2019-06-30 05:00:00</td>\n",
       "      <td>264</td>\n",
       "      <td>300</td>\n",
       "      <td>288</td>\n",
       "    </tr>\n",
       "    <tr>\n",
       "      <th>4302</th>\n",
       "      <td>2019-06-30 06:00:00</td>\n",
       "      <td>372</td>\n",
       "      <td>250</td>\n",
       "      <td>387</td>\n",
       "    </tr>\n",
       "    <tr>\n",
       "      <th>4303</th>\n",
       "      <td>2019-06-30 07:00:00</td>\n",
       "      <td>363</td>\n",
       "      <td>201</td>\n",
       "      <td>389</td>\n",
       "    </tr>\n",
       "    <tr>\n",
       "      <th>4304</th>\n",
       "      <td>2019-06-30 08:00:00</td>\n",
       "      <td>322</td>\n",
       "      <td>210</td>\n",
       "      <td>343</td>\n",
       "    </tr>\n",
       "    <tr>\n",
       "      <th>4305</th>\n",
       "      <td>2019-06-30 09:00:00</td>\n",
       "      <td>323</td>\n",
       "      <td>183</td>\n",
       "      <td>351</td>\n",
       "    </tr>\n",
       "    <tr>\n",
       "      <th>4306</th>\n",
       "      <td>2019-06-30 10:00:00</td>\n",
       "      <td>411</td>\n",
       "      <td>226</td>\n",
       "      <td>439</td>\n",
       "    </tr>\n",
       "    <tr>\n",
       "      <th>4307</th>\n",
       "      <td>2019-06-30 11:00:00</td>\n",
       "      <td>384</td>\n",
       "      <td>186</td>\n",
       "      <td>418</td>\n",
       "    </tr>\n",
       "    <tr>\n",
       "      <th>4308</th>\n",
       "      <td>2019-06-30 12:00:00</td>\n",
       "      <td>381</td>\n",
       "      <td>220</td>\n",
       "      <td>426</td>\n",
       "    </tr>\n",
       "    <tr>\n",
       "      <th>4309</th>\n",
       "      <td>2019-06-30 13:00:00</td>\n",
       "      <td>384</td>\n",
       "      <td>239</td>\n",
       "      <td>411</td>\n",
       "    </tr>\n",
       "    <tr>\n",
       "      <th>4310</th>\n",
       "      <td>2019-06-30 14:00:00</td>\n",
       "      <td>446</td>\n",
       "      <td>231</td>\n",
       "      <td>500</td>\n",
       "    </tr>\n",
       "    <tr>\n",
       "      <th>4311</th>\n",
       "      <td>2019-06-30 15:00:00</td>\n",
       "      <td>354</td>\n",
       "      <td>212</td>\n",
       "      <td>391</td>\n",
       "    </tr>\n",
       "    <tr>\n",
       "      <th>4312</th>\n",
       "      <td>2019-06-30 16:00:00</td>\n",
       "      <td>287</td>\n",
       "      <td>224</td>\n",
       "      <td>337</td>\n",
       "    </tr>\n",
       "    <tr>\n",
       "      <th>4313</th>\n",
       "      <td>2019-06-30 17:00:00</td>\n",
       "      <td>263</td>\n",
       "      <td>249</td>\n",
       "      <td>298</td>\n",
       "    </tr>\n",
       "    <tr>\n",
       "      <th>4314</th>\n",
       "      <td>2019-06-30 18:00:00</td>\n",
       "      <td>144</td>\n",
       "      <td>236</td>\n",
       "      <td>150</td>\n",
       "    </tr>\n",
       "    <tr>\n",
       "      <th>4315</th>\n",
       "      <td>2019-06-30 19:00:00</td>\n",
       "      <td>87</td>\n",
       "      <td>239</td>\n",
       "      <td>93</td>\n",
       "    </tr>\n",
       "    <tr>\n",
       "      <th>4316</th>\n",
       "      <td>2019-06-30 20:00:00</td>\n",
       "      <td>42</td>\n",
       "      <td>339</td>\n",
       "      <td>49</td>\n",
       "    </tr>\n",
       "    <tr>\n",
       "      <th>4317</th>\n",
       "      <td>2019-06-30 21:00:00</td>\n",
       "      <td>34</td>\n",
       "      <td>320</td>\n",
       "      <td>37</td>\n",
       "    </tr>\n",
       "    <tr>\n",
       "      <th>4318</th>\n",
       "      <td>2019-06-30 22:00:00</td>\n",
       "      <td>42</td>\n",
       "      <td>238</td>\n",
       "      <td>47</td>\n",
       "    </tr>\n",
       "    <tr>\n",
       "      <th>4319</th>\n",
       "      <td>2019-06-30 23:00:00</td>\n",
       "      <td>58</td>\n",
       "      <td>134</td>\n",
       "      <td>61</td>\n",
       "    </tr>\n",
       "  </tbody>\n",
       "</table>\n",
       "<p>4320 rows × 4 columns</p>\n",
       "</div>"
      ],
      "text/plain": [
       "                     date  users   sessionLength  event_count\n",
       "0     2019-01-02 00:00:00     45             282           52\n",
       "1     2019-01-02 01:00:00     62             254           67\n",
       "2     2019-01-02 02:00:00     97             213          109\n",
       "3     2019-01-02 03:00:00    147             215          152\n",
       "4     2019-01-02 04:00:00    172             232          185\n",
       "5     2019-01-02 05:00:00    193             236          210\n",
       "6     2019-01-02 06:00:00    201             226          221\n",
       "7     2019-01-02 07:00:00    237             203          253\n",
       "8     2019-01-02 08:00:00    257             216          274\n",
       "9     2019-01-02 09:00:00    250             247          279\n",
       "10    2019-01-02 10:00:00    270             237          290\n",
       "11    2019-01-02 11:00:00    212             225          249\n",
       "12    2019-01-02 12:00:00    239             211          260\n",
       "13    2019-01-02 13:00:00    212             224          235\n",
       "14    2019-01-02 14:00:00    193             251          205\n",
       "15    2019-01-02 15:00:00    151             242          165\n",
       "16    2019-01-02 16:00:00    132             247          138\n",
       "17    2019-01-02 17:00:00     99             269          106\n",
       "18    2019-01-02 18:00:00     60             341           64\n",
       "19    2019-01-02 19:00:00     37             314           37\n",
       "20    2019-01-02 20:00:00     46             250           47\n",
       "21    2019-01-02 21:00:00     25             216           25\n",
       "22    2019-01-02 22:00:00     21             417           22\n",
       "23    2019-01-02 23:00:00     25             132           27\n",
       "24    2019-01-03 00:00:00     40             148           43\n",
       "25    2019-01-03 01:00:00     86             239           93\n",
       "26    2019-01-03 02:00:00    124             195          132\n",
       "27    2019-01-03 03:00:00    207             221          226\n",
       "28    2019-01-03 04:00:00    197             203          217\n",
       "29    2019-01-03 05:00:00    203             220          223\n",
       "...                   ...    ...             ...          ...\n",
       "4290  2019-06-29 18:00:00    140             193          153\n",
       "4291  2019-06-29 19:00:00     61             261           66\n",
       "4292  2019-06-29 20:00:00     47             202           49\n",
       "4293  2019-06-29 21:00:00     35             356           35\n",
       "4294  2019-06-29 22:00:00     35             235           38\n",
       "4295  2019-06-29 23:00:00     58             401           61\n",
       "4296  2019-06-30 00:00:00    132             246          138\n",
       "4297  2019-06-30 01:00:00    165             303          175\n",
       "4298  2019-06-30 02:00:00    258             250          276\n",
       "4299  2019-06-30 03:00:00    253             233          280\n",
       "4300  2019-06-30 04:00:00    281             235          306\n",
       "4301  2019-06-30 05:00:00    264             300          288\n",
       "4302  2019-06-30 06:00:00    372             250          387\n",
       "4303  2019-06-30 07:00:00    363             201          389\n",
       "4304  2019-06-30 08:00:00    322             210          343\n",
       "4305  2019-06-30 09:00:00    323             183          351\n",
       "4306  2019-06-30 10:00:00    411             226          439\n",
       "4307  2019-06-30 11:00:00    384             186          418\n",
       "4308  2019-06-30 12:00:00    381             220          426\n",
       "4309  2019-06-30 13:00:00    384             239          411\n",
       "4310  2019-06-30 14:00:00    446             231          500\n",
       "4311  2019-06-30 15:00:00    354             212          391\n",
       "4312  2019-06-30 16:00:00    287             224          337\n",
       "4313  2019-06-30 17:00:00    263             249          298\n",
       "4314  2019-06-30 18:00:00    144             236          150\n",
       "4315  2019-06-30 19:00:00     87             239           93\n",
       "4316  2019-06-30 20:00:00     42             339           49\n",
       "4317  2019-06-30 21:00:00     34             320           37\n",
       "4318  2019-06-30 22:00:00     42             238           47\n",
       "4319  2019-06-30 23:00:00     58             134           61\n",
       "\n",
       "[4320 rows x 4 columns]"
      ]
     },
     "execution_count": 5,
     "metadata": {},
     "output_type": "execute_result"
    }
   ],
   "source": [
    "df"
   ]
  },
  {
   "cell_type": "markdown",
   "metadata": {},
   "source": [
    "## Fb Prophet model for fitting the given time series"
   ]
  },
  {
   "cell_type": "code",
   "execution_count": 8,
   "metadata": {},
   "outputs": [
    {
     "name": "stderr",
     "output_type": "stream",
     "text": [
      "INFO:fbprophet:Disabling yearly seasonality. Run prophet with yearly_seasonality=True to override this.\n",
      "/home/sarvesh/anaconda3/lib/python3.6/site-packages/pystan/misc.py:399: FutureWarning: Conversion of the second argument of issubdtype from `float` to `np.floating` is deprecated. In future, it will be treated as `np.float64 == np.dtype(float).type`.\n",
      "  elif np.issubdtype(np.asarray(v).dtype, float):\n"
     ]
    },
    {
     "data": {
      "text/plain": [
       "<fbprophet.forecaster.Prophet at 0x7f9dd9c62eb8>"
      ]
     },
     "execution_count": 8,
     "metadata": {},
     "output_type": "execute_result"
    }
   ],
   "source": [
    "model = Prophet()\n",
    "model.fit(train_df.reset_index().rename(columns={'date':'ds', 'event_count':'y'}))"
   ]
  },
  {
   "cell_type": "code",
   "execution_count": 10,
   "metadata": {},
   "outputs": [],
   "source": [
    "model_test =  model.predict(df=test_df.reset_index().rename(columns={'date':'ds'}))"
   ]
  },
  {
   "cell_type": "code",
   "execution_count": 11,
   "metadata": {},
   "outputs": [
    {
     "data": {
      "text/plain": [
       "41.87339006924334"
      ]
     },
     "execution_count": 11,
     "metadata": {},
     "output_type": "execute_result"
    }
   ],
   "source": [
    "np.mean(np.abs(np.array(test_df['event_count']) - np.array(model_test['yhat'])))"
   ]
  },
  {
   "cell_type": "code",
   "execution_count": 12,
   "metadata": {},
   "outputs": [
    {
     "data": {
      "text/plain": [
       "<matplotlib.axes._subplots.AxesSubplot at 0x7f9dd52779e8>"
      ]
     },
     "execution_count": 12,
     "metadata": {},
     "output_type": "execute_result"
    },
    {
     "data": {
      "image/png": "[encoded data removed]",
      "text/plain": [
       "<Figure size 432x288 with 1 Axes>"
      ]
     },
     "metadata": {
      "needs_background": "light"
     },
     "output_type": "display_data"
    }
   ],
   "source": [
    "sns.regplot(test_df['event_count'],model_test['yhat'])"
   ]
  },
  {
   "cell_type": "code",
   "execution_count": 13,
   "metadata": {},
   "outputs": [
    {
     "data": {
      "image/png": "[encoded data removed]",
      "text/plain": [
       "<Figure size 1080x360 with 1 Axes>"
      ]
     },
     "metadata": {
      "needs_background": "light"
     },
     "output_type": "display_data"
    }
   ],
   "source": [
    "f, ax = plt.subplots(1)\n",
    "f.set_figheight(5)\n",
    "f.set_figwidth(15)\n",
    "fig = model.plot(model_test, ax=ax)"
   ]
  },
  {
   "cell_type": "markdown",
   "metadata": {},
   "source": [
    "## Defining relationship between Users,SessionLength and Event_Count"
   ]
  },
  {
   "cell_type": "code",
   "execution_count": 133,
   "metadata": {},
   "outputs": [],
   "source": [
    "linear = nn.Linear(1,2)"
   ]
  },
  {
   "cell_type": "code",
   "execution_count": 134,
   "metadata": {},
   "outputs": [],
   "source": [
    "x = np.array(train_df['event_count']).T\n",
    "y = []"
   ]
  },
  {
   "cell_type": "code",
   "execution_count": 135,
   "metadata": {},
   "outputs": [],
   "source": [
    "x_val = np.array(test_df['event_count']).T\n",
    "y_val = []"
   ]
  },
  {
   "cell_type": "code",
   "execution_count": 136,
   "metadata": {},
   "outputs": [],
   "source": [
    "for i in train_df.iterrows():\n",
    "    y.append(np.array([i[1][1],i[1][2]]))\n",
    "#     break"
   ]
  },
  {
   "cell_type": "code",
   "execution_count": 137,
   "metadata": {},
   "outputs": [],
   "source": [
    "for i in test_df.iterrows():\n",
    "    y_val.append(np.array([i[1][1],i[1][2]]))\n",
    "#     break"
   ]
  },
  {
   "cell_type": "code",
   "execution_count": 138,
   "metadata": {},
   "outputs": [],
   "source": [
    "params = [{'params': linear.parameters()}]"
   ]
  },
  {
   "cell_type": "code",
   "execution_count": 139,
   "metadata": {},
   "outputs": [],
   "source": [
    "optimizer = optim.Adam(params, lr=1e-3)\n",
    "# scheduler = optim.lr_scheduler.ReduceLROnPlateau(optimizer, 'min',verbose=True,patience=5000)"
   ]
  },
  {
   "cell_type": "code",
   "execution_count": 140,
   "metadata": {},
   "outputs": [],
   "source": [
    "train_loss_array = []\n",
    "val_loss_array = []"
   ]
  },
  {
   "cell_type": "code",
   "execution_count": 141,
   "metadata": {},
   "outputs": [],
   "source": [
    "import sys"
   ]
  },
  {
   "cell_type": "code",
   "execution_count": 142,
   "metadata": {},
   "outputs": [
    {
     "name": "stdout",
     "output_type": "stream",
     "text": [
      " epoch-99999 val-loss-36.514175415039066"
     ]
    }
   ],
   "source": [
    "for epoch in range(100000):\n",
    "    \n",
    "    x = Variable(torch.FloatTensor(x))\n",
    "    x_input = x.unsqueeze(1)\n",
    "    y_hat = linear(F.relu(x_input))\n",
    "    x_val = Variable(torch.FloatTensor(x_val))\n",
    "    x_input_val = x_val.unsqueeze(1)\n",
    "    y_hat_val = linear(F.relu(x_input_val))\n",
    "    train_loss = torch.mean(torch.abs(torch.sub(y_hat,torch.FloatTensor(y))))\n",
    "    val_loss = torch.mean(torch.abs(torch.sub(y_hat_val,torch.FloatTensor(y_val))))\n",
    "#     scheduler.step(val_loss/len(y_val))\n",
    "    train_loss.backward()\n",
    "    optimizer.step()\n",
    "    train_loss_array.append(train_loss.item())\n",
    "    \n",
    "    val_loss_array.append(val_loss.item())\n",
    "    sys.stdout.write('\\r epoch-{0} val-loss-{1}'.format(epoch,min(val_loss_array)))\n",
    "#     print(\"epoch--\",epoch,\"--loss-\",train_loss,\"--val-\",val_loss)\n",
    "    "
   ]
  },
  {
   "cell_type": "code",
   "execution_count": 110,
   "metadata": {},
   "outputs": [
    {
     "data": {
      "text/plain": [
       "79.62158203125"
      ]
     },
     "execution_count": 110,
     "metadata": {},
     "output_type": "execute_result"
    }
   ],
   "source": [
    "min(val_loss_array)"
   ]
  },
  {
   "cell_type": "code",
   "execution_count": 111,
   "metadata": {},
   "outputs": [
    {
     "data": {
      "text/plain": [
       "tensor([-20.2912, 320.2692], grad_fn=<AddBackward0>)"
      ]
     },
     "execution_count": 111,
     "metadata": {},
     "output_type": "execute_result"
    }
   ],
   "source": [
    "linear(torch.FloatTensor([52]))"
   ]
  },
  {
   "cell_type": "code",
   "execution_count": 146,
   "metadata": {},
   "outputs": [],
   "source": [
    "model_dict = {\n",
    "     'model': linear.state_dict(),\n",
    "}"
   ]
  },
  {
   "cell_type": "code",
   "execution_count": 147,
   "metadata": {},
   "outputs": [],
   "source": [
    "torch.save(model_dict,'model.tar')"
   ]
  },
  {
   "cell_type": "code",
   "execution_count": null,
   "metadata": {},
   "outputs": [],
   "source": []
  }
 ],
 "metadata": {
  "kernelspec": {
   "display_name": "Python 3",
   "language": "python",
   "name": "python3"
  },
  "language_info": {
   "codemirror_mode": {
    "name": "ipython",
    "version": 3
   },
   "file_extension": ".py",
   "mimetype": "text/x-python",
   "name": "python",
   "nbconvert_exporter": "python",
   "pygments_lexer": "ipython3",
   "version": "3.6.6"
  }
 },
 "nbformat": 4,
 "nbformat_minor": 2
}
